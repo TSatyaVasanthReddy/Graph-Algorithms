{
 "cells": [
  {
   "cell_type": "code",
   "execution_count": 1,
   "metadata": {},
   "outputs": [],
   "source": [
    "#####################\n",
    "# IMPORT STATEMENTS #\n",
    "#####################\n",
    "import pandas as pd\n",
    "from collections import namedtuple\n",
    "import numpy as np\n",
    "from igraph import *\n",
    "import json\n"
   ]
  },
  {
   "cell_type": "code",
   "execution_count": 2,
   "metadata": {},
   "outputs": [],
   "source": [
    "# Read the dataframe\n",
    "df = pd.read_csv('san_francisco-censustracts.csv')\n",
    "# Select the data from December\n",
    "df12 = df[df.month ==12]"
   ]
  },
  {
   "cell_type": "code",
   "execution_count": 12,
   "metadata": {},
   "outputs": [],
   "source": [
    "# Load details about the location\n",
    "with open('san_francisco_censustracts.json') as data_file:    \n",
    "    location_data = json.load(data_file)\n",
    "\n",
    "#Create display name and mean location coordinates mapping\n",
    "display_name = {}\n",
    "location_coordinates = {}\n",
    "for data in location_data['features']:\n",
    "    #print(id)\n",
    "    id = int(data['properties']['MOVEMENT_ID'])\n",
    "    display_name[id] = data['properties']['DISPLAY_NAME']\n",
    "    location_coordinates[id] = np.mean(data['geometry']['coordinates'][0][0], 0)\n",
    "#print(len(display_name))"
   ]
  },
  {
   "cell_type": "code",
   "execution_count": 4,
   "metadata": {},
   "outputs": [],
   "source": [
    "# Get nodes and edges\n",
    "sources = list(df12.sourceid.values)\n",
    "destinations = list(df12.dstid.values)\n",
    "sources_set = set(sources)\n",
    "destinations_set = set(destinations)"
   ]
  },
  {
   "cell_type": "code",
   "execution_count": 5,
   "metadata": {},
   "outputs": [
    {
     "name": "stdout",
     "output_type": "stream",
     "text": [
      "1887\n",
      "538998\n"
     ]
    }
   ],
   "source": [
    "nodes = sources_set.union(destinations_set)\n",
    "node_count = len(nodes)\n",
    "edges_count = df12.sourceid.count()\n",
    "print(node_count)\n",
    "print(edges_count)"
   ]
  },
  {
   "cell_type": "code",
   "execution_count": 6,
   "metadata": {},
   "outputs": [],
   "source": [
    "#Create an edgelist\n",
    "edge_list = zip(sources,destinations)\n",
    "edge_weights = list(df12.mean_travel_time)"
   ]
  },
  {
   "cell_type": "code",
   "execution_count": 7,
   "metadata": {},
   "outputs": [
    {
     "data": {
      "text/plain": [
       "538998"
      ]
     },
     "execution_count": 7,
     "metadata": {},
     "output_type": "execute_result"
    }
   ],
   "source": [
    "len(edge_weights)"
   ]
  },
  {
   "cell_type": "code",
   "execution_count": 8,
   "metadata": {},
   "outputs": [],
   "source": [
    "# Write edgelist into file\n",
    "with open('location_edge_list.txt','wb') as f:\n",
    "    for e,w in zip(edge_list, edge_weights):\n",
    "        f.write('%d\\t%d\\t%f\\n'%(e[0],e[1],w))"
   ]
  },
  {
   "cell_type": "code",
   "execution_count": 19,
   "metadata": {},
   "outputs": [],
   "source": [
    "# Write Display mapping into file\n",
    "with open('display_name2.txt','wb+') as f:\n",
    "    for k,v in display_name.items():\n",
    "        f.write('%d\\t%s\\n'%(k,v.encode('ascii', 'ignore').decode('ascii')))"
   ]
  },
  {
   "cell_type": "code",
   "execution_count": 10,
   "metadata": {},
   "outputs": [],
   "source": [
    "# Write mean location coordinates mapping into file\n",
    "with open('mean_location_coordinates.txt','w+') as f:\n",
    "    for k,v in location_coordinates.items():\n",
    "        f.write('%d\\t%f\\t%f\\n'%(k,v[0],v[1]))"
   ]
  },
  {
   "cell_type": "code",
   "execution_count": 14,
   "metadata": {},
   "outputs": [
    {
     "data": {
      "text/plain": [
       "2710"
      ]
     },
     "execution_count": 14,
     "metadata": {},
     "output_type": "execute_result"
    }
   ],
   "source": [
    "len(display_name)"
   ]
  },
  {
   "cell_type": "code",
   "execution_count": 24,
   "metadata": {},
   "outputs": [
    {
     "data": {
      "text/plain": [
       "6439.18"
      ]
     },
     "execution_count": 24,
     "metadata": {},
     "output_type": "execute_result"
    }
   ],
   "source": [
    "max(edge_weights)"
   ]
  },
  {
   "cell_type": "code",
   "execution_count": null,
   "metadata": {},
   "outputs": [],
   "source": []
  }
 ],
 "metadata": {
  "kernelspec": {
   "display_name": "Python 2",
   "language": "python",
   "name": "python2"
  },
  "language_info": {
   "codemirror_mode": {
    "name": "ipython",
    "version": 2
   },
   "file_extension": ".py",
   "mimetype": "text/x-python",
   "name": "python",
   "nbconvert_exporter": "python",
   "pygments_lexer": "ipython2",
   "version": "2.7.15"
  }
 },
 "nbformat": 4,
 "nbformat_minor": 2
}
