{
 "cells": [
  {
   "cell_type": "code",
   "execution_count": 1,
   "metadata": {},
   "outputs": [],
   "source": [
    "#####################\n",
    "# IMPORT STATEMENTS #\n",
    "#####################\n",
    "import pandas as pd\n",
    "from collections import namedtuple\n",
    "import numpy as np\n",
    "from igraph import *\n",
    "import json\n"
   ]
  },
  {
   "cell_type": "code",
   "execution_count": 2,
   "metadata": {},
   "outputs": [],
   "source": [
    "# Read the dataframe\n",
    "df = pd.read_csv('san_francisco-censustracts.csv')\n",
    "# Select the data from December\n",
    "df12 = df[df.month ==12]"
   ]
  },
  {
   "cell_type": "code",
   "execution_count": 3,
   "metadata": {},
   "outputs": [],
   "source": [
    "# Load details about the location\n",
    "with open('san_francisco_censustracts.json') as data_file:    \n",
    "    location_data = json.load(data_file)\n",
    "\n",
    "#Create display name and mean location coordinates mapping\n",
    "display_name = {}\n",
    "location_coordinates = {}\n",
    "for data in location_data['features']:\n",
    "    #print(id)\n",
    "    id = int(data['properties']['MOVEMENT_ID'])\n",
    "    display_name[id] = data['properties']['DISPLAY_NAME']\n",
    "    location_coordinates[id] = np.mean(data['geometry']['coordinates'][0][0], 0)\n",
    "#print(len(display_name))"
   ]
  },
  {
   "cell_type": "code",
   "execution_count": 4,
   "metadata": {},
   "outputs": [],
   "source": [
    "# Get nodes and edges\n",
    "sources = list(df12.sourceid.values)\n",
    "destinations = list(df12.dstid.values)\n",
    "sources_set = set(sources)\n",
    "destinations_set = set(destinations)"
   ]
  },
  {
   "cell_type": "code",
   "execution_count": 5,
   "metadata": {},
   "outputs": [
    {
     "name": "stdout",
     "output_type": "stream",
     "text": [
      "1887\n",
      "538998\n"
     ]
    }
   ],
   "source": [
    "nodes = sources_set.union(destinations_set)\n",
    "node_count = len(nodes)\n",
    "edges_count = df12.sourceid.count()\n",
    "print(node_count)\n",
    "print(edges_count)"
   ]
  },
  {
   "cell_type": "code",
   "execution_count": 6,
   "metadata": {},
   "outputs": [],
   "source": [
    "#Create an edgelist\n",
    "#edge_list = zip(sources,destinations)\n",
    "edge_weights = list(df12.mean_travel_time)"
   ]
  },
  {
   "cell_type": "code",
   "execution_count": 17,
   "metadata": {},
   "outputs": [],
   "source": [
    "edge_list = []\n",
    "for i in range(len(sources)):\n",
    "    sv = sorted([sources[i],destinations[i]])\n",
    "    edge_list.append([sv[0],sv[1],edge_weights[i]])\n",
    "    \n",
    "    "
   ]
  },
  {
   "cell_type": "code",
   "execution_count": 18,
   "metadata": {},
   "outputs": [
    {
     "data": {
      "text/plain": [
       "538998"
      ]
     },
     "execution_count": 18,
     "metadata": {},
     "output_type": "execute_result"
    }
   ],
   "source": [
    "len(edge_list)"
   ]
  },
  {
   "cell_type": "code",
   "execution_count": 19,
   "metadata": {},
   "outputs": [],
   "source": [
    "el_df = pd.DataFrame(np.matrix(edge_list))"
   ]
  },
  {
   "cell_type": "code",
   "execution_count": 24,
   "metadata": {},
   "outputs": [],
   "source": [
    "el_df.columns = ['s','d','w']"
   ]
  },
  {
   "cell_type": "code",
   "execution_count": 25,
   "metadata": {},
   "outputs": [
    {
     "data": {
      "text/html": [
       "<div>\n",
       "<style scoped>\n",
       "    .dataframe tbody tr th:only-of-type {\n",
       "        vertical-align: middle;\n",
       "    }\n",
       "\n",
       "    .dataframe tbody tr th {\n",
       "        vertical-align: top;\n",
       "    }\n",
       "\n",
       "    .dataframe thead th {\n",
       "        text-align: right;\n",
       "    }\n",
       "</style>\n",
       "<table border=\"1\" class=\"dataframe\">\n",
       "  <thead>\n",
       "    <tr style=\"text-align: right;\">\n",
       "      <th></th>\n",
       "      <th>s</th>\n",
       "      <th>d</th>\n",
       "      <th>w</th>\n",
       "    </tr>\n",
       "  </thead>\n",
       "  <tbody>\n",
       "    <tr>\n",
       "      <th>0</th>\n",
       "      <td>1938.0</td>\n",
       "      <td>1952.0</td>\n",
       "      <td>596.69</td>\n",
       "    </tr>\n",
       "    <tr>\n",
       "      <th>1</th>\n",
       "      <td>629.0</td>\n",
       "      <td>1747.0</td>\n",
       "      <td>1454.81</td>\n",
       "    </tr>\n",
       "    <tr>\n",
       "      <th>2</th>\n",
       "      <td>1872.0</td>\n",
       "      <td>1919.0</td>\n",
       "      <td>1227.01</td>\n",
       "    </tr>\n",
       "    <tr>\n",
       "      <th>3</th>\n",
       "      <td>1871.0</td>\n",
       "      <td>1929.0</td>\n",
       "      <td>1005.54</td>\n",
       "    </tr>\n",
       "    <tr>\n",
       "      <th>4</th>\n",
       "      <td>81.0</td>\n",
       "      <td>2319.0</td>\n",
       "      <td>474.53</td>\n",
       "    </tr>\n",
       "  </tbody>\n",
       "</table>\n",
       "</div>"
      ],
      "text/plain": [
       "        s       d        w\n",
       "0  1938.0  1952.0   596.69\n",
       "1   629.0  1747.0  1454.81\n",
       "2  1872.0  1919.0  1227.01\n",
       "3  1871.0  1929.0  1005.54\n",
       "4    81.0  2319.0   474.53"
      ]
     },
     "execution_count": 25,
     "metadata": {},
     "output_type": "execute_result"
    }
   ],
   "source": [
    "el_df.head()"
   ]
  },
  {
   "cell_type": "code",
   "execution_count": 50,
   "metadata": {},
   "outputs": [],
   "source": [
    "edge_list_non_dup = np.matrix(el_df.groupby(['s','d'],as_index=False).mean()).tolist()"
   ]
  },
  {
   "cell_type": "code",
   "execution_count": 51,
   "metadata": {},
   "outputs": [],
   "source": [
    "# Write edgelist into file\n",
    "with open('location_edge_list.txt','wb+') as f:\n",
    "    for sdw in edge_list_non_dup:\n",
    "        f.write('%d\\t%d\\t%f\\n'%(sdw[0],sdw[1],sdw[2]))"
   ]
  },
  {
   "cell_type": "code",
   "execution_count": 52,
   "metadata": {},
   "outputs": [],
   "source": [
    "# Write Display mapping into file\n",
    "with open('display_name2.txt','wb+') as f:\n",
    "    for k,v in display_name.items():\n",
    "        f.write('%d\\t%s\\n'%(k,v.encode('ascii', 'ignore').decode('ascii')))"
   ]
  },
  {
   "cell_type": "code",
   "execution_count": 53,
   "metadata": {},
   "outputs": [],
   "source": [
    "# Write mean location coordinates mapping into file\n",
    "with open('mean_location_coordinates.txt','w+') as f:\n",
    "    for k,v in location_coordinates.items():\n",
    "        f.write('%d\\t%f\\t%f\\n'%(k,v[0],v[1]))"
   ]
  },
  {
   "cell_type": "code",
   "execution_count": 54,
   "metadata": {},
   "outputs": [
    {
     "data": {
      "text/plain": [
       "2710"
      ]
     },
     "execution_count": 54,
     "metadata": {},
     "output_type": "execute_result"
    }
   ],
   "source": [
    "len(display_name)"
   ]
  },
  {
   "cell_type": "code",
   "execution_count": 55,
   "metadata": {},
   "outputs": [
    {
     "data": {
      "text/plain": [
       "6439.18"
      ]
     },
     "execution_count": 55,
     "metadata": {},
     "output_type": "execute_result"
    }
   ],
   "source": [
    "max(edge_weights)"
   ]
  },
  {
   "cell_type": "code",
   "execution_count": null,
   "metadata": {},
   "outputs": [],
   "source": []
  }
 ],
 "metadata": {
  "kernelspec": {
   "display_name": "Python 2",
   "language": "python",
   "name": "python2"
  },
  "language_info": {
   "codemirror_mode": {
    "name": "ipython",
    "version": 2
   },
   "file_extension": ".py",
   "mimetype": "text/x-python",
   "name": "python",
   "nbconvert_exporter": "python",
   "pygments_lexer": "ipython2",
   "version": "2.7.15"
  }
 },
 "nbformat": 4,
 "nbformat_minor": 2
}
